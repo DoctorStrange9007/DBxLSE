{
 "cells": [
  {
   "cell_type": "code",
   "execution_count": null,
   "metadata": {},
   "outputs": [],
   "source": [
    "import subprocess\n",
    "libraries_to_install = ['mlxtend', 'ipynb']\n",
    "\n",
    "for library in libraries_to_install:\n",
    "    subprocess.run([\"pip\", \"install\", library], check=True)"
   ]
  },
  {
   "cell_type": "code",
   "execution_count": null,
   "metadata": {
    "id": "Oy2LJr-I7uwl"
   },
   "outputs": [],
   "source": [
    "from sklearn.linear_model import LogisticRegression\n",
    "from joblib import dump, load, Parallel, delayed\n",
    "from mlxtend.feature_selection import SequentialFeatureSelector as SFS\n",
    "import pandas as pd\n",
    "from mlxtend.evaluate import PredefinedHoldoutSplit\n",
    "import numpy as np\n",
    "import glob, os\n",
    "import random\n",
    "random.seed(42)\n",
    "from joblib import dump, load\n",
    "from ipynb.fs.full.Data_Preparation import getFilenames\n",
    "from ipynb.fs.full.Data_Preparation import getProcessedData"
   ]
  },
  {
   "cell_type": "code",
   "execution_count": null,
   "metadata": {
    "id": "2UNdM7BJ7uwn"
   },
   "outputs": [],
   "source": [
    "# Define a list of currency pair tickers\n",
    "fx_tic = ['EURNZD',\n",
    " 'USDCHF',\n",
    " 'EURCHF',\n",
    " 'USDEUR',\n",
    " 'USDGBP',\n",
    " 'EURNOK',\n",
    " 'EURSEK',\n",
    " 'USDNZD',\n",
    " 'USDCAD',\n",
    " 'EURDKK',\n",
    " 'USDSEK',\n",
    " 'USDJPY',\n",
    " 'USDDKK',\n",
    " 'EURJPY',\n",
    " 'EURCAD',\n",
    " 'EURGBP',\n",
    " 'USDNOK']\n",
    "\n",
    "# Create a dictionary that maps each currency pair ticker to the index\n",
    "fx_dic = {'EURNZD': 0,\n",
    " 'USDCHF': 1,\n",
    " 'EURCHF': 2,\n",
    " 'USDEUR': 3,\n",
    " 'USDGBP': 4,\n",
    " 'EURNOK': 5,\n",
    " 'EURSEK': 6,\n",
    " 'USDNZD': 7,\n",
    " 'USDCAD': 8,\n",
    " 'EURDKK': 9,\n",
    " 'USDSEK': 10,\n",
    " 'USDJPY': 11,\n",
    " 'USDDKK': 12,\n",
    " 'EURJPY': 13,\n",
    " 'EURCAD': 14,\n",
    " 'EURGBP': 15,\n",
    " 'USDNOK': 16}"
   ]
  },
  {
   "cell_type": "code",
   "execution_count": null,
   "metadata": {
    "id": "qjX8mf6WQhMd"
   },
   "outputs": [],
   "source": [
    "from sklearn.discriminant_analysis import LinearDiscriminantAnalysis"
   ]
  },
  {
   "cell_type": "code",
   "execution_count": null,
   "metadata": {
    "id": "oN5fAs1s7uwn"
   },
   "outputs": [],
   "source": [
    "def sffs_with_lda(stock_name):\n",
    "    # Data split\n",
    "    X_train, X_val1, X_val2, X_test, y_train, y_val1, y_val2, y_test = getProcessedData(getFilenames(fx_tic)[fx_dic[stock_name]])\n",
    "\n",
    "    # Create a Linear Discriminant Analysis (LDA) estimator\n",
    "    lda = LinearDiscriminantAnalysis()\n",
    "    lda1 = lda.fit(X_train, y_train)\n",
    "    # Perform Sequential Forward Feature Selection (SFFS) to determine \n",
    "    # the best combination of 20 features that maximize classification accuracy\n",
    "    # We use LDA as the base estimator for this selection\n",
    "    sffs = SFS(lda1,\n",
    "           # Number of features to select\n",
    "           k_features=20,\n",
    "           # Indicate this is forward selection\n",
    "           forward=True,\n",
    "           # Allows removal of features during addition \n",
    "           floating=True,\n",
    "           # Use accuracy as the metric \n",
    "           scoring='accuracy',\n",
    "           # No cross-validation\n",
    "           cv=0,\n",
    "           # Use all available CPU cores\n",
    "           n_jobs=-1)\n",
    "    \n",
    "    # Fit the SFFS algorithm on training data\n",
    "    sffs = sffs.fit(X_train, y_train)\n",
    "\n",
    "    # Return the indices of the selected features, the best accuracy score, and the SFFS object\n",
    "    return list(sffs.k_feature_idx_), sffs.k_score_, sffs"
   ]
  },
  {
   "cell_type": "code",
   "execution_count": null,
   "metadata": {
    "colab": {
     "base_uri": "https://localhost:8080/"
    },
    "executionInfo": {
     "elapsed": 130234,
     "status": "ok",
     "timestamp": 1686149943244,
     "user": {
      "displayName": "Liu Zeyu",
      "userId": "17925325437793044714"
     },
     "user_tz": -60
    },
    "id": "18X4Gl2e7uwn",
    "outputId": "3f815b84-71fb-4092-8be6-9f7ae2f0ad0d"
   },
   "outputs": [
    {
     "name": "stdout",
     "output_type": "stream",
     "text": [
      "EURNZD\n",
      "[8, 9, 10, 11, 16, 18, 21, 23, 26, 28, 31, 35, 36, 38, 46, 50, 51, 52, 53, 55]\n",
      "0.573237885462555\n",
      "USDCHF\n",
      "[2, 5, 7, 8, 10, 11, 17, 25, 27, 35, 41, 43, 47, 48, 51, 52, 53, 54, 55, 57]\n",
      "0.554210236653825\n",
      "EURCHF\n",
      "[4, 11, 12, 14, 17, 18, 19, 26, 29, 32, 33, 34, 39, 40, 45, 47, 49, 50, 51, 52]\n",
      "0.5610432852386238\n",
      "USDEUR\n",
      "[0, 6, 11, 12, 16, 22, 23, 24, 25, 28, 30, 31, 33, 38, 44, 45, 48, 49, 54, 59]\n",
      "0.5599334073251943\n",
      "USDGBP\n",
      "[1, 2, 5, 13, 16, 18, 23, 24, 25, 31, 35, 36, 38, 41, 42, 46, 48, 51, 52, 54]\n",
      "0.5686707115278544\n",
      "EURNOK\n",
      "[2, 8, 10, 11, 13, 17, 18, 21, 23, 24, 25, 40, 41, 42, 43, 47, 53, 56, 57, 58]\n",
      "0.5443951165371809\n",
      "EURSEK\n",
      "[2, 4, 8, 10, 11, 13, 15, 20, 22, 23, 33, 39, 40, 41, 44, 48, 51, 54, 55, 59]\n",
      "0.5554938956714761\n",
      "USDNZD\n",
      "[5, 6, 8, 10, 13, 14, 17, 20, 21, 23, 24, 25, 33, 37, 40, 43, 51, 52, 53, 57]\n",
      "0.5637065637065637\n",
      "USDCAD\n",
      "[5, 8, 10, 11, 17, 18, 20, 23, 24, 25, 31, 33, 35, 40, 42, 52, 54, 55, 56, 57]\n",
      "0.5679691799669785\n",
      "EURDKK\n",
      "[1, 6, 8, 10, 17, 21, 26, 30, 31, 35, 37, 43, 44, 45, 47, 48, 50, 51, 55, 58]\n",
      "0.5876803551609323\n",
      "USDSEK\n",
      "[7, 8, 10, 11, 17, 18, 21, 23, 24, 25, 26, 27, 31, 33, 35, 40, 42, 43, 53, 55]\n",
      "0.5546918378678511\n",
      "USDJPY\n",
      "[0, 13, 14, 15, 16, 18, 19, 20, 21, 22, 26, 28, 31, 33, 35, 38, 41, 47, 51, 53]\n",
      "0.5685730149916713\n",
      "USDDKK\n",
      "[1, 3, 7, 13, 14, 17, 22, 23, 26, 27, 28, 29, 30, 31, 35, 44, 48, 51, 52, 53]\n",
      "0.5756741882223445\n",
      "EURJPY\n",
      "[0, 1, 4, 9, 13, 20, 21, 23, 24, 25, 26, 29, 31, 41, 44, 47, 51, 53, 54, 56]\n",
      "0.5765815760266371\n",
      "EURCAD\n",
      "[5, 8, 10, 11, 18, 20, 21, 23, 24, 25, 26, 28, 32, 33, 41, 42, 43, 46, 48, 58]\n",
      "0.5826859045504994\n",
      "EURGBP\n",
      "[4, 5, 7, 8, 13, 17, 18, 20, 21, 23, 24, 25, 27, 41, 42, 47, 51, 52, 54, 55]\n",
      "0.5711929631665751\n",
      "USDNOK\n",
      "[0, 2, 4, 5, 7, 15, 17, 18, 20, 22, 23, 26, 27, 33, 34, 37, 47, 49, 51, 57]\n",
      "0.5707940033314826\n"
     ]
    }
   ],
   "source": [
    "# Loop through each ticker, apply SFFS with LDA, and print results\n",
    "for ele in fx_tic:\n",
    "    res = sffs_with_lda(ele)\n",
    "    print(ele)\n",
    "    # Indices of selected features\n",
    "    print(res[0])\n",
    "    # Best accuracy score\n",
    "    print(res[1])"
   ]
  }
 ],
 "metadata": {
  "colab": {
   "provenance": []
  },
  "kernelspec": {
   "display_name": "Python 3 (ipykernel)",
   "language": "python",
   "name": "python3"
  },
  "language_info": {
   "codemirror_mode": {
    "name": "ipython",
    "version": 3
   },
   "file_extension": ".py",
   "mimetype": "text/x-python",
   "name": "python",
   "nbconvert_exporter": "python",
   "pygments_lexer": "ipython3",
   "version": "3.9.13"
  },
  "vscode": {
   "interpreter": {
    "hash": "4abf830dbe5492d4a2ce4ae1154053b5a6dd0334c53a1af2abe9dec18861041e"
   }
  }
 },
 "nbformat": 4,
 "nbformat_minor": 1
}
